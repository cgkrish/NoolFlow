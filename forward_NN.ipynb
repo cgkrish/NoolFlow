{
 "cells": [
  {
   "cell_type": "code",
   "execution_count": 44,
   "metadata": {},
   "outputs": [],
   "source": [
    "import numpy as np\n",
    "import matplotlib.pyplot as plt  # Plotting library\n",
    "np.random.seed(seed=1)\n",
    "from sklearn.metrics import confusion_matrix, classification_report\n",
    "from sklearn import datasets, cross_validation, metrics # data and evaluation utils\n",
    "from matplotlib.colors import colorConverter, ListedColormap # some plotting functions\n",
    "import itertools\n",
    "import collections\n",
    "import time"
   ]
  },
  {
   "cell_type": "code",
   "execution_count": 45,
   "metadata": {},
   "outputs": [
    {
     "name": "stdout",
     "output_type": "stream",
     "text": [
      "(1617, 64)\n",
      "(1617, 10)\n",
      "[ 0.  0.  2. 13. 16. 16.  7.  0.  0.  0. 12. 15. 12. 16. 10.  0.  0.  0.\n",
      " 16.  9.  0. 14.  6.  0.  0.  0.  3.  0.  4. 16.  1.  0.  0.  0.  0. 10.\n",
      " 14. 16.  6.  0.  0.  0.  3. 16. 16. 11.  2.  0.  0.  0.  0.  9. 14.  0.\n",
      "  0.  0.  0.  0.  2. 15.  6.  0.  0.  0.]\n",
      "[0. 0. 0. 0. 0. 0. 0. 1. 0. 0.]\n"
     ]
    }
   ],
   "source": [
    "# load the data from scikit-learn.\n",
    "digits = datasets.load_digits()\n",
    "#dataset = datasets.fetch_mldata(\"MNIST Original\")\n",
    "\n",
    "# Load the targets.\n",
    "# Note that the targets are stored as digits, these need to be \n",
    "#  converted to one-hot-encoding for the output sofmax layer.\n",
    "T = np.zeros((digits.target.shape[0],10))\n",
    "T[np.arange(len(T)), digits.target] += 1\n",
    "\n",
    "# Divide the data into a train and test set.\n",
    "X_train, X_test, T_train, T_test = cross_validation.train_test_split(\n",
    "   digits.data, T, test_size=0.1)\n",
    "#(X_train, X_test, T_train, T_test) = cross_validation.train_test_split(\n",
    "#\tdataset.data / 255.0, dataset.target.astype(\"int0\"), test_size = 0.33)\n",
    "# Divide the test set into a validation set and final test set.\n",
    "X_validation, X_test, T_validation, T_test = cross_validation.train_test_split(\n",
    "    X_test, T_test, test_size=0.5)\n",
    "print(X_train.shape)\n",
    "print(T_train.shape)\n",
    "print(X_train[0,:])\n",
    "print(T_train[0,:])"
   ]
  },
  {
   "cell_type": "code",
   "execution_count": 46,
   "metadata": {},
   "outputs": [
    {
     "data": {
      "image/png": "[encoded data removed]",
      "text/plain": [
       "<Figure size 1000x100 with 10 Axes>"
      ]
     },
     "metadata": {},
     "output_type": "display_data"
    }
   ],
   "source": [
    "# Plot an example of each image.\n",
    "fig = plt.figure(figsize=(10, 1), dpi=100)\n",
    "for i in range(10):\n",
    "    ax = fig.add_subplot(1,10,i+1)\n",
    "    ax.matshow(digits.images[i], cmap='binary') \n",
    "    ax.axis('off')\n",
    "plt.show()"
   ]
  },
  {
   "cell_type": "code",
   "execution_count": 47,
   "metadata": {},
   "outputs": [],
   "source": [
    "def tanh(x):\n",
    "    return np.tanh(x)"
   ]
  },
  {
   "cell_type": "code",
   "execution_count": 48,
   "metadata": {},
   "outputs": [
    {
     "name": "stdout",
     "output_type": "stream",
     "text": [
      "[[0.76159416 0.96402758 0.99505475]\n",
      " [0.99505475 0.9993293  0.9999092 ]]\n"
     ]
    }
   ],
   "source": [
    "#test tanh\n",
    "print(tanh(np.array([[1,2,3],[3,4,5]])))"
   ]
  },
  {
   "cell_type": "code",
   "execution_count": 49,
   "metadata": {},
   "outputs": [],
   "source": [
    "def softmax(y):\n",
    "    #y1= np.exp(y)/ np.sum(np.exp(y), axis = 1, keepdims=True)\n",
    "    y1= y/ np.sum(y, axis = 1, keepdims=True)\n",
    "    idx = y1.argmax(axis=1)\n",
    "    y1 = (idx[:,None] == np.arange(y1.shape[1])).astype(float)\n",
    "    return y1"
   ]
  },
  {
   "cell_type": "code",
   "execution_count": 50,
   "metadata": {},
   "outputs": [
    {
     "name": "stdout",
     "output_type": "stream",
     "text": [
      "[[0. 1. 0.]\n",
      " [0. 1. 0.]]\n"
     ]
    }
   ],
   "source": [
    "#test softmax\n",
    "x = np.array([[.1,6,6],[4,10,10]])\n",
    "print(softmax(x))"
   ]
  },
  {
   "cell_type": "code",
   "execution_count": 51,
   "metadata": {},
   "outputs": [],
   "source": [
    "def sigmoid(x) :\n",
    "    return (1/1+np.exp(-x))"
   ]
  },
  {
   "cell_type": "code",
   "execution_count": 52,
   "metadata": {},
   "outputs": [],
   "source": [
    "def relu(x):\n",
    "    return np.where(x<0, 0, x)"
   ]
  },
  {
   "cell_type": "code",
   "execution_count": 53,
   "metadata": {},
   "outputs": [],
   "source": [
    "def mean_absolute_percentage_error(y_true, y_pred): \n",
    "    y_true, y_pred = np.array(y_true), np.array(y_pred)\n",
    "    return np.mean(np.abs((y_true - y_pred) / y_true)) * 100"
   ]
  },
  {
   "cell_type": "code",
   "execution_count": 54,
   "metadata": {},
   "outputs": [],
   "source": [
    "def logit(y, minThreshold=0.0001, maxThreshold=9999):\n",
    "    \n",
    "    np.where( y < minThreshold , minThreshold, y)\n",
    "    np.where( y > maxThreshold ,maxThreshold, y)\n",
    "    \n",
    "    z = -np.log((1-y)/y)\n",
    "    return z\n",
    "        \n",
    "    "
   ]
  },
  {
   "cell_type": "code",
   "execution_count": 55,
   "metadata": {},
   "outputs": [],
   "source": [
    "def normalize(data):\n",
    "    nData = data/np.linalg.norm(data)\n",
    "    max = np.max(data, axis=1, keepdims=True)\n",
    "    min = np.min(data, axis = 1 , keepdims=True)\n",
    "    nData = (data-min)/(max-min)\n",
    "    return nData"
   ]
  },
  {
   "cell_type": "code",
   "execution_count": 56,
   "metadata": {},
   "outputs": [
    {
     "data": {
      "text/plain": [
       "array([[0. , 0.5, 1. ],\n",
       "       [0. , 0.5, 1. ]])"
      ]
     },
     "execution_count": 56,
     "metadata": {},
     "output_type": "execute_result"
    }
   ],
   "source": [
    "#test normalize\n",
    "normalize(np.array([[1,2,3],[2,4,6]]))"
   ]
  },
  {
   "cell_type": "code",
   "execution_count": 57,
   "metadata": {},
   "outputs": [],
   "source": [
    "def mappedToSize(inputs, newSize):\n",
    "    outputs = np.zeros((inputs.shape[0], newSize) )\n",
    "    m = inputs.shape[1]\n",
    "    n= newSize\n",
    "    w = np.zeros((n,m))\n",
    "    for i in range(n):\n",
    "        for j in range(m):\n",
    "            outputs[:,i] += (n -np.abs(i-j)-1)*inputs[:,j]*2/(m*(2*n -m-1)) \n",
    "            w[i,j]=(n -np.abs(i-j)-1)\n",
    "    w=normalize(w.T)\n",
    "    #outputs = np.dot( inputs, w)\n",
    "    return (outputs)\n",
    "        \n",
    "        "
   ]
  },
  {
   "cell_type": "code",
   "execution_count": 58,
   "metadata": {},
   "outputs": [
    {
     "data": {
      "text/plain": [
       "array([[1.83333333, 2.16666667, 2.16666667, 1.66666667, 1.16666667,\n",
       "        0.66666667],\n",
       "       [3.66666667, 4.33333333, 4.33333333, 3.33333333, 2.33333333,\n",
       "        1.33333333]])"
      ]
     },
     "execution_count": 58,
     "metadata": {},
     "output_type": "execute_result"
    }
   ],
   "source": [
    "#test expandToSize function\n",
    "mappedToSize(np.array([[1,2,3],[2,4,6]]), 6)"
   ]
  },
  {
   "cell_type": "code",
   "execution_count": 59,
   "metadata": {},
   "outputs": [],
   "source": [
    "def train(X, Y, layout, activations):\n",
    "    xi = X\n",
    "    W=[]\n",
    "    B=[]\n",
    "    for i in range(len(layout)):\n",
    "        if i < len(layout)-1  :\n",
    "            yi = mappedToSize(Y, layout[i]) \n",
    "        else:\n",
    "            yi = Y\n",
    "        xf = xi    \n",
    "        wi = (np.dot(np.linalg.pinv((xi)), yi))\n",
    "        bi = np.mean(activations[i](np.dot((xi), wi)) -yi, axis=0)\n",
    "        \n",
    "        if i < len(layout)-1:\n",
    "            xi =activations[i]((np.dot((xi), wi)+bi))\n",
    "        else :\n",
    "            xi =softmax(np.dot((xi), wi)+bi)\n",
    "         \n",
    "        W.append(wi)\n",
    "        B.append(bi)\n",
    "    return W, B"
   ]
  },
  {
   "cell_type": "code",
   "execution_count": 60,
   "metadata": {},
   "outputs": [],
   "source": [
    "def train_batch(X, Y, layout, activations):\n",
    "    xi = X\n",
    "    W=[]\n",
    "    B=[]\n",
    "    min_batch_size =  np.floor(X.shape[0]/len(layout)).astype(int)\n",
    "    for i in range(len(layout)):\n",
    "        if min_batch_size*(i +1) < X.shape[0] :\n",
    "            xi =X[min_batch_size*i: min_batch_size*(i+1), :] \n",
    "        else:\n",
    "            xi= X[min_batch_size*i: , :] \n",
    "            \n",
    "        if i < len(layout)-1  :\n",
    "            yi = expandToSize(Y, layout[i])\n",
    "        else:\n",
    "            yi = Y\n",
    "        xi = X   \n",
    "        for j in range(i):\n",
    "            wj=W[j]\n",
    "            bj= B[j]\n",
    "            xi =np.dot(activations[i](xi), wj)+bj            \n",
    "       \n",
    "        wi = np.dot(np.linalg.pinv(activations[i](xi)), yi)\n",
    "        bi = np.mean(np.dot(activations[i](xi), wi) -yi, axis=0)\n",
    "        \n",
    "        if i < len(layout)-1:\n",
    "            xi =np.dot(activations[i](xi), wi)+bi\n",
    "        else :\n",
    "            xi =softmax(np.dot(activations[i](xi), wi)+bi)\n",
    "         \n",
    "        W.append(wi)\n",
    "        B.append(bi)\n",
    "    return W, B"
   ]
  },
  {
   "cell_type": "code",
   "execution_count": 61,
   "metadata": {},
   "outputs": [
    {
     "name": "stderr",
     "output_type": "stream",
     "text": [
      "C:\\ProgramData\\Anaconda3\\lib\\site-packages\\ipykernel_launcher.py:5: RuntimeWarning: invalid value encountered in true_divide\n",
      "  \"\"\"\n"
     ]
    }
   ],
   "source": [
    "#test train\n",
    "X = normalize(np.array([[1,2,3],[7,8,9],[2,6,9 ],[34,56,23]]))\n",
    "Y = normalize(np.array([1,2,3,10]).reshape(4,1))\n",
    "layout = [10,20,40,50]\n",
    "activations=[sigmoid, sigmoid, sigmoid, sigmoid]\n",
    "#W, B = train(X, Y, layout, activations)"
   ]
  },
  {
   "cell_type": "code",
   "execution_count": 62,
   "metadata": {},
   "outputs": [],
   "source": [
    "def eval(X, W, B, layout, activations):\n",
    "    xi = X\n",
    "    for i in range(len(layout)):\n",
    "        wi=W[i]\n",
    "        bi=B[i]\n",
    "        xf = xi\n",
    "        if i < len(layout)-1:\n",
    "            xi =activations[i](np.dot((xi), wi)+bi)\n",
    "        else :\n",
    "            xi =softmax(np.dot((xi), wi)+bi)\n",
    "    return xi\n",
    "    "
   ]
  },
  {
   "cell_type": "code",
   "execution_count": 63,
   "metadata": {},
   "outputs": [
    {
     "name": "stderr",
     "output_type": "stream",
     "text": [
      "C:\\ProgramData\\Anaconda3\\lib\\site-packages\\ipykernel_launcher.py:5: RuntimeWarning: invalid value encountered in true_divide\n",
      "  \"\"\"\n"
     ]
    }
   ],
   "source": [
    "#test eval\n",
    "X = normalize(np.array([[1,2,3],[7,8,9],[2,6,9 ],[34,56,23]]))\n",
    "Y = normalize(np.array([1,2,3,10]).reshape(4,1))\n",
    "layout = [10,20,40,50]\n",
    "activations=[sigmoid, sigmoid, sigmoid, sigmoid]\n",
    "#W, B = train(X, Y, layout, activations)\n",
    "#Y1 = eval(X, W, B, layout, activations)\n",
    "#print( mean_absolute_percentage_error(Y[0],Y1[0]))"
   ]
  },
  {
   "cell_type": "code",
   "execution_count": 64,
   "metadata": {},
   "outputs": [
    {
     "name": "stdout",
     "output_type": "stream",
     "text": [
      "training time : 0.17676091194152832\n",
      "The accuracy on the train set is 0.96\n",
      "The accuracy on the validation set is 0.96\n",
      "The accuracy on the test set is 0.97\n"
     ]
    }
   ],
   "source": [
    "#layout = [50,40,30,25, 25, 20,15,10,10]\n",
    "#activations=[sigmoid, sigmoid, sigmoid, sigmoid,sigmoid,sigmoid,sigmoid,sigmoid,sigmoid]\n",
    "layout = [100,50,40,10]\n",
    "activations=[tanh, tanh, tanh, tanh]\n",
    "start_time = time.time()\n",
    "W, B = train(X_train, T_train, layout, activations)\n",
    "print(\"training time : \" + str( time.time() - start_time))\n",
    "Y_train_predict = eval(X_train, W, B, layout, activations)\n",
    "# Get results of train data\n",
    "y_true = np.argmax(T_train, axis=1)  # Get the target outputs\n",
    "y_pred = np.argmax(Y_train_predict, axis=1)  # Get the predictions made by the network\n",
    "test_accuracy = metrics.accuracy_score(y_true, y_pred)  # Test set accuracy\n",
    "print('The accuracy on the train set is {:.2f}'.format(test_accuracy))\n",
    "\n",
    "Y_validation_predict = eval(X_validation, W, B, layout, activations)\n",
    "# Get results of validation data\n",
    "y_true = np.argmax(T_validation, axis=1)  # Get the target outputs\n",
    "y_pred = np.argmax(Y_validation_predict, axis=1)  # Get the predictions made by the network\n",
    "test_accuracy = metrics.accuracy_score(y_true, y_pred)  # Test set accuracy\n",
    "print('The accuracy on the validation set is {:.2f}'.format(test_accuracy))\n",
    "\n",
    "Y_test_predict = eval(X_test, W, B, layout, activations)\n",
    "# Get results of test data\n",
    "y_true = np.argmax(T_test, axis=1)  # Get the target outputs\n",
    "y_pred = np.argmax(Y_test_predict, axis=1)  # Get the predictions made by the network\n",
    "test_accuracy = metrics.accuracy_score(y_true, y_pred)  # Test set accuracy\n",
    "print('The accuracy on the test set is {:.2f}'.format(test_accuracy))"
   ]
  },
  {
   "cell_type": "code",
   "execution_count": 65,
   "metadata": {},
   "outputs": [
    {
     "name": "stdout",
     "output_type": "stream",
     "text": [
      "[[ 9  0  0  0  0  0  0  0  0  0]\n",
      " [ 0  7  0  0  0  0  0  0  0  0]\n",
      " [ 0  0 10  0  0  0  0  0  0  0]\n",
      " [ 0  0  0  7  0  0  0  0  0  1]\n",
      " [ 0  0  0  0  8  0  0  0  0  0]\n",
      " [ 0  0  0  0  0  8  0  0  0  0]\n",
      " [ 0  0  0  0  0  0 13  0  0  0]\n",
      " [ 0  0  0  0  0  0  0 10  0  0]\n",
      " [ 0  1  0  0  0  1  0  0  8  0]\n",
      " [ 0  0  0  0  0  0  0  0  0  7]]\n",
      "             precision    recall  f1-score   support\n",
      "\n",
      "          0       1.00      1.00      1.00         9\n",
      "          1       0.88      1.00      0.93         7\n",
      "          2       1.00      1.00      1.00        10\n",
      "          3       1.00      0.88      0.93         8\n",
      "          4       1.00      1.00      1.00         8\n",
      "          5       0.89      1.00      0.94         8\n",
      "          6       1.00      1.00      1.00        13\n",
      "          7       1.00      1.00      1.00        10\n",
      "          8       1.00      0.80      0.89        10\n",
      "          9       0.88      1.00      0.93         7\n",
      "\n",
      "avg / total       0.97      0.97      0.97        90\n",
      "\n"
     ]
    }
   ],
   "source": [
    "print (confusion_matrix(y_true, y_pred))\n",
    "print (classification_report(y_true, y_pred))"
   ]
  },
  {
   "cell_type": "code",
   "execution_count": 66,
   "metadata": {},
   "outputs": [
    {
     "name": "stdout",
     "output_type": "stream",
     "text": [
      "C:\\Users\\admin\n"
     ]
    }
   ],
   "source": []
  },
  {
   "cell_type": "code",
   "execution_count": null,
   "metadata": {},
   "outputs": [],
   "source": []
  }
 ],
 "metadata": {
  "kernelspec": {
   "display_name": "Python 3",
   "language": "python",
   "name": "python3"
  },
  "language_info": {
   "codemirror_mode": {
    "name": "ipython",
    "version": 3
   },
   "file_extension": ".py",
   "mimetype": "text/x-python",
   "name": "python",
   "nbconvert_exporter": "python",
   "pygments_lexer": "ipython3",
   "version": "3.6.5"
  }
 },
 "nbformat": 4,
 "nbformat_minor": 2
}
