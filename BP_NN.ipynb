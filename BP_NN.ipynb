{
 "cells": [
  {
   "cell_type": "code",
   "execution_count": 8,
   "metadata": {},
   "outputs": [],
   "source": [
    "import numpy as np\n",
    "import time\n",
    "\n",
    "def tanh(x):\n",
    "    return np.tanh(x)\n",
    "\n",
    "def tanh_deriv(x):\n",
    "    return 1.0 - np.tanh(x)**2\n",
    "\n",
    "def logistic(x):\n",
    "    return 1/(1 + np.exp(-x))\n",
    "\n",
    "def logistic_derivative(x):\n",
    "    return logistic(x)*(1-logistic(x))"
   ]
  },
  {
   "cell_type": "code",
   "execution_count": 9,
   "metadata": {},
   "outputs": [],
   "source": [
    "class NeuralNetwork:\n",
    "    def __init__(self, layers, activation='tanh'):\n",
    "        \"\"\"\n",
    "        :param layers: A list containing the number of units in each layer.\n",
    "        Should be at least two values\n",
    "        :param activation: The activation function to be used. Can be\n",
    "        \"logistic\" or \"tanh\"\n",
    "        \"\"\"\n",
    "        if activation == 'logistic':\n",
    "            self.activation = logistic\n",
    "            self.activation_deriv = logistic_derivative\n",
    "        elif activation == 'tanh':\n",
    "            self.activation = tanh\n",
    "            self.activation_deriv = tanh_deriv\n",
    "\n",
    "        self.weights = []\n",
    "        for i in range(1, len(layers) - 1):\n",
    "            self.weights.append((2*np.random.random((layers[i - 1] + 1, layers[i]\n",
    "                                ))-1)*0.25)\n",
    "        self.weights.append((2*np.random.random((layers[i] + 1, layers[i +\n",
    "                            1]))-1)*0.25)\n",
    "        \n",
    "    def fit(self, X, y, learning_rate=0.2, epochs=10000):\n",
    "        X = np.atleast_2d(X)\n",
    "        temp = np.ones([X.shape[0], X.shape[1]+1])\n",
    "        temp[:, 0:-1] = X  # adding the bias unit to the input layer\n",
    "        X = temp\n",
    "        y = np.array(y)\n",
    "\n",
    "        for k in range(epochs):\n",
    "            i = np.random.randint(X.shape[0])\n",
    "            a = [X[i]]\n",
    "\n",
    "            for l in range(len(self.weights)):\n",
    "                hidden_inputs = np.ones([self.weights[l].shape[1] + 1])\n",
    "                hidden_inputs[0:-1] = self.activation(np.dot(a[l], self.weights[l]))\n",
    "                a.append(hidden_inputs)\n",
    "            error = y[i] - a[-1][:-1]\n",
    "            deltas = [error * self.activation_deriv(a[-1][:-1])]\n",
    "            l = len(a) - 2\n",
    "\n",
    "            # The last layer before the output is handled separately because of\n",
    "            # the lack of bias node in output\n",
    "            deltas.append(deltas[-1].dot(self.weights[l].T)*self.activation_deriv(a[l]))\n",
    "\n",
    "            for l in range(len(a) -3, 0, -1): # we need to begin at the second to last layer\n",
    "                deltas.append(deltas[-1][:-1].dot(self.weights[l].T)*self.activation_deriv(a[l]))\n",
    "\n",
    "            deltas.reverse()\n",
    "            for i in range(len(self.weights)-1):\n",
    "                layer = np.atleast_2d(a[i])\n",
    "                delta = np.atleast_2d(deltas[i])\n",
    "                self.weights[i] += learning_rate * layer.T.dot(delta[:,:-1])\n",
    "            # Handle last layer separately because it doesn't have a bias unit\n",
    "            i+=1\n",
    "            layer = np.atleast_2d(a[i])\n",
    "            delta = np.atleast_2d(deltas[i])\n",
    "            self.weights[i] += learning_rate * layer.T.dot(delta)\n",
    "            \n",
    "    def predict(self, x):\n",
    "        a = np.array(x)\n",
    "        for l in range(0, len(self.weights)):\n",
    "            temp = np.ones(a.shape[0]+1)\n",
    "            temp[0:-1] = a\n",
    "            a = self.activation(np.dot(temp, self.weights[l]))\n",
    "        return a"
   ]
  },
  {
   "cell_type": "code",
   "execution_count": null,
   "metadata": {},
   "outputs": [],
   "source": []
  },
  {
   "cell_type": "code",
   "execution_count": null,
   "metadata": {},
   "outputs": [],
   "source": [
    " "
   ]
  },
  {
   "cell_type": "code",
   "execution_count": 10,
   "metadata": {},
   "outputs": [
    {
     "name": "stdout",
     "output_type": "stream",
     "text": [
      "training time : 0.9853711128234863\n",
      "[0, 0] [0.45824737]\n",
      "[0, 1] [0.46261759]\n",
      "[1, 0] [0.46062954]\n",
      "[1, 1] [0.46500399]\n"
     ]
    }
   ],
   "source": [
    "nn = NeuralNetwork([2,2,1], 'tanh')\n",
    "X = np.array([[0, 0], [0, 1], [1, 0], [1, 1]])\n",
    "y = np.array([0, 1, 1, 0])\n",
    "start_time = time.time()\n",
    "nn.fit(X, y)\n",
    "print(\"training time : \" + str( time.time() - start_time))\n",
    "for i in [[0, 0], [0, 1], [1, 0], [1,1]]:\n",
    "    print(i,nn.predict(i))"
   ]
  },
  {
   "cell_type": "code",
   "execution_count": 16,
   "metadata": {},
   "outputs": [
    {
     "name": "stdout",
     "output_type": "stream",
     "text": [
      "(1797, 64)\n",
      "training time : 10.833237171173096\n",
      "[[34  0  0  0  0  0  0  0  0  0]\n",
      " [ 1 46  0  0  0  0  0  0  0  0]\n",
      " [ 0  5 38  0  0  0  0  0  0  0]\n",
      " [ 0  0  0 40  0  0  0  0  1  0]\n",
      " [ 0  4  0  0 42  0  0  1  0  0]\n",
      " [ 0  0  0  0  0 44  0  0  0  1]\n",
      " [ 4  2  0  0  0  0 49  0  0  0]\n",
      " [ 0  0  0  0  0  0  0 54  0  0]\n",
      " [ 1  3  0  1  0  0  0  1 31  3]\n",
      " [ 0  0  0  0  0  0  0  2  0 42]]\n",
      "             precision    recall  f1-score   support\n",
      "\n",
      "          0       0.85      1.00      0.92        34\n",
      "          1       0.77      0.98      0.86        47\n",
      "          2       1.00      0.88      0.94        43\n",
      "          3       0.98      0.98      0.98        41\n",
      "          4       1.00      0.89      0.94        47\n",
      "          5       1.00      0.98      0.99        45\n",
      "          6       1.00      0.89      0.94        55\n",
      "          7       0.93      1.00      0.96        54\n",
      "          8       0.97      0.78      0.86        40\n",
      "          9       0.91      0.95      0.93        44\n",
      "\n",
      "avg / total       0.94      0.93      0.93       450\n",
      "\n"
     ]
    }
   ],
   "source": [
    "import numpy as np\n",
    "from sklearn.cross_validation import train_test_split \n",
    "from sklearn.datasets import load_digits\n",
    "from sklearn.metrics import confusion_matrix, classification_report\n",
    "from sklearn.preprocessing import LabelBinarizer\n",
    "\n",
    "\n",
    "digits = load_digits()\n",
    "X = digits.data\n",
    "y = digits.target\n",
    "X -= X.min() # normalize the values to bring them into the range 0-1\n",
    "X /= X.max()\n",
    "print(X.shape)\n",
    "nn = NeuralNetwork([64,100,50,40,10],'tanh')\n",
    "X_train, X_test, y_train, y_test = train_test_split(X, y)\n",
    "labels_train = LabelBinarizer().fit_transform(y_train)\n",
    "labels_test = LabelBinarizer().fit_transform(y_test)\n",
    "\n",
    "start_time = time.time()\n",
    "nn.fit(X_train,labels_train,epochs=30000)\n",
    "print(\"training time : \" + str( time.time() - start_time))\n",
    "predictions = []\n",
    "for i in range(X_test.shape[0]):\n",
    "    o = nn.predict(X_test[i] )\n",
    "    predictions.append(np.argmax(o))\n",
    "print (confusion_matrix(y_test,predictions))\n",
    "print (classification_report(y_test,predictions))"
   ]
  },
  {
   "cell_type": "code",
   "execution_count": null,
   "metadata": {},
   "outputs": [],
   "source": []
  }
 ],
 "metadata": {
  "kernelspec": {
   "display_name": "Python 3",
   "language": "python",
   "name": "python3"
  },
  "language_info": {
   "codemirror_mode": {
    "name": "ipython",
    "version": 3
   },
   "file_extension": ".py",
   "mimetype": "text/x-python",
   "name": "python",
   "nbconvert_exporter": "python",
   "pygments_lexer": "ipython3",
   "version": "3.6.5"
  }
 },
 "nbformat": 4,
 "nbformat_minor": 2
}
